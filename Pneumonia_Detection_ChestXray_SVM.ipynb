{
  "nbformat": 4,
  "nbformat_minor": 0,
  "metadata": {
    "colab": {
      "name": "Pneumonia_Detection_ChestXray_SVM.ipynb",
      "provenance": [],
      "collapsed_sections": []
    },
    "kernelspec": {
      "name": "python3",
      "display_name": "Python 3"
    },
    "language_info": {
      "name": "python"
    }
  },
  "cells": [
    {
      "cell_type": "markdown",
      "source": [
        "**Import necessary libraries**"
      ],
      "metadata": {
        "id": "meAFSkTLvbqs"
      }
    },
    {
      "cell_type": "code",
      "execution_count": null,
      "metadata": {
        "id": "D5hywFMturL8"
      },
      "outputs": [],
      "source": [
        "import os\n",
        "import numpy as np\n",
        "import pandas as pd\n",
        "import cv2\n",
        "from sklearn import model_selection\n",
        "from sklearn import svm\n",
        "from sklearn.metrics import classification_report, confusion_matrix\n",
        "import seaborn as sns\n",
        "import matplotlib.pyplot as plt\n",
        "from sklearn.metrics import precision_score, recall_score, f1_score"
      ]
    },
    {
      "cell_type": "markdown",
      "source": [
        "**Configrations**"
      ],
      "metadata": {
        "id": "0yXGFnGQvk0-"
      }
    },
    {
      "cell_type": "code",
      "source": [
        "# provide the path to the image data\n",
        "GOOGLE_DRIVE_PATH = \"/content/drive/MyDrive/Colab Notebooks\"\n",
        "INPUT_DATA_PATH = os.path.join(GOOGLE_DRIVE_PATH, 'chest_xray')\n",
        "\n",
        "# image configurations\n",
        "LABELS = ['NORMAL', 'PNEUMONIA']\n",
        "IMAGE_SIZE = 128\n",
        "IMAGE_CHANNEL = 1\n",
        "\n",
        "# model configuration\n",
        "MODEL_NAME = 'ChestXRay_SVM_Model'\n",
        "SVM_KERNELS = ('linear', 'poly', 'rbf')\n",
        "REG_PARAMS = (0.1, 1, 10, 100)\n",
        "TRAINING_RATIO = 0.6\n",
        "VALIDATION_RATIO = 0.2\n",
        "VERBOSE_MODE = True"
      ],
      "metadata": {
        "id": "C7a4zBWYvpg3"
      },
      "execution_count": null,
      "outputs": []
    },
    {
      "cell_type": "markdown",
      "source": [
        "**Function: Read images from files into arrays**"
      ],
      "metadata": {
        "id": "y4fXbxCDUR2D"
      }
    },
    {
      "cell_type": "code",
      "source": [
        "def ReadImagesIntoDF(image_dir):\n",
        "  data = []\n",
        "  labels = []\n",
        "  for label in LABELS: \n",
        "    path = os.path.join(image_dir, label)\n",
        "    image_label = LABELS.index(label)\n",
        "    for imagefile in os.listdir(path):\n",
        "      try:\n",
        "        image = cv2.imread(os.path.join(path, imagefile), cv2.IMREAD_GRAYSCALE)\n",
        "        resized_image = cv2.resize(image, (IMAGE_SIZE, IMAGE_SIZE))\n",
        "        data.append(resized_image.flatten())\n",
        "        labels.append(image_label)\n",
        "      except Exception as e:\n",
        "        print(e)\n",
        "  data_DF = pd.DataFrame(np.array(data))\n",
        "  data_DF['label'] = np.array(labels)\n",
        "  return data_DF"
      ],
      "metadata": {
        "id": "92lgcAg3UPfq"
      },
      "execution_count": null,
      "outputs": []
    },
    {
      "cell_type": "markdown",
      "source": [
        "**Construct training, validation and test sets**"
      ],
      "metadata": {
        "id": "ChPgsYjGVTKp"
      }
    },
    {
      "cell_type": "code",
      "source": [
        "TrainingSet_DF = ReadImagesIntoDF(os.path.join(INPUT_DATA_PATH, 'train'))\n",
        "ValidationSet_DF = ReadImagesIntoDF(os.path.join(INPUT_DATA_PATH, 'val'))\n",
        "TestSet_DF = ReadImagesIntoDF(os.path.join(INPUT_DATA_PATH, 'test'))"
      ],
      "metadata": {
        "id": "C_Gs5hpJVWbi"
      },
      "execution_count": null,
      "outputs": []
    },
    {
      "cell_type": "markdown",
      "source": [
        "**Analyzing the training and validation set**"
      ],
      "metadata": {
        "id": "5X4vOWHsF3nb"
      }
    },
    {
      "cell_type": "code",
      "source": [
        "trainingset_normal_counts = TrainingSet_DF[TrainingSet_DF['label'] == 0].shape[0]\n",
        "trainingset_pneumonia_counts = TrainingSet_DF[TrainingSet_DF['label'] == 1].shape[0]\n",
        "# plot\n",
        "figure, axis = plt.subplots(1,2)\n",
        "size = [trainingset_normal_counts, trainingset_pneumonia_counts]\n",
        "explode = (0, 0.1)\n",
        "axis[0].pie(size, explode=explode, labels=LABELS, autopct='%1.1f%%', shadow=True, startangle=270)\n",
        "axis[0].set_title(\"Training Set\")\n",
        "validationset_normal_counts = ValidationSet_DF[ValidationSet_DF['label'] == 0].shape[0]\n",
        "validationset_pneumonia_counts = ValidationSet_DF[ValidationSet_DF['label'] == 1].shape[0]\n",
        "size = [validationset_normal_counts, validationset_pneumonia_counts]\n",
        "explode = (0, 0.1)\n",
        "axis[1].pie(size, explode=explode, labels=LABELS, autopct='%1.1f%%', shadow=True, startangle=225)\n",
        "axis[1].set_title(\"Validation Set\")\n",
        "plt.show()"
      ],
      "metadata": {
        "id": "kzYVLFLaF9AP",
        "colab": {
          "base_uri": "https://localhost:8080/",
          "height": 199
        },
        "outputId": "1798f760-c9a5-4d00-8770-2145e038b2e0"
      },
      "execution_count": null,
      "outputs": [
        {
          "output_type": "display_data",
          "data": {
            "text/plain": [
              "<Figure size 432x288 with 2 Axes>"
            ],
            "image/png": "[encoded data removed]"
          },
          "metadata": {}
        }
      ]
    },
    {
      "cell_type": "code",
      "source": [
        "print(TrainingSet_DF[TrainingSet_DF['label'] == 0].shape)\n",
        "print(TrainingSet_DF[TrainingSet_DF['label'] == 1].shape)\n",
        "print(ValidationSet_DF[ValidationSet_DF['label'] == 0].shape)\n",
        "print(ValidationSet_DF[ValidationSet_DF['label'] == 1].shape)\n",
        "print(TestSet_DF[TestSet_DF['label'] == 0].shape)\n",
        "print(TestSet_DF[TestSet_DF['label'] == 1].shape)"
      ],
      "metadata": {
        "id": "PmEnOllWhBcF",
        "colab": {
          "base_uri": "https://localhost:8080/"
        },
        "outputId": "da304362-9598-4adf-b796-10e5984a8266"
      },
      "execution_count": null,
      "outputs": [
        {
          "output_type": "stream",
          "name": "stdout",
          "text": [
            "(1341, 16385)\n",
            "(3875, 16385)\n",
            "(8, 16385)\n",
            "(8, 16385)\n",
            "(234, 16385)\n",
            "(390, 16385)\n"
          ]
        }
      ]
    },
    {
      "cell_type": "markdown",
      "source": [
        "**Balance and finalize the traing, validation, test combination**"
      ],
      "metadata": {
        "id": "uPQJTemWSJpt"
      }
    },
    {
      "cell_type": "code",
      "source": [
        "# Balance the labels in the training dataset\n",
        "TrainingSet_LABEL0_DF = TrainingSet_DF[TrainingSet_DF['label'] == 0]\n",
        "TrainingSet_LABEL1_DF = TrainingSet_DF[TrainingSet_DF['label'] == 1]\n",
        "\n",
        "# Append the Validation set\n",
        "TrainingValidationSet_LABEL0_DF = TrainingSet_LABEL0_DF.append(ValidationSet_DF[ValidationSet_DF['label'] == 0])\n",
        "TrainingValidationSet_LABEL1_DF = TrainingSet_LABEL1_DF.append(ValidationSet_DF[ValidationSet_DF['label'] == 1])\n",
        "\n",
        "# Append the Test set\n",
        "TrainingValidationTestSet_LABEL0_DF = TrainingValidationSet_LABEL0_DF.append(TestSet_DF[TestSet_DF['label'] == 0])\n",
        "TrainingValidationTestSet_LABEL1_DF = TrainingValidationSet_LABEL1_DF.append(TestSet_DF[TestSet_DF['label'] == 1])\n",
        "\n",
        "# Balance the data set\n",
        "TrainingValidationTestSet_LABEL1_DF = TrainingValidationTestSet_LABEL1_DF.iloc[:TrainingValidationTestSet_LABEL0_DF.shape[0],:]\n",
        "\n",
        "# Split the dataset into training, validation and test datasets based on TRAINING_RATIO and VALIDATION_RATIO\n",
        "training_index_label0 = int(TRAINING_RATIO*TrainingValidationTestSet_LABEL0_DF.shape[0])\n",
        "training_index_label1 = int(TRAINING_RATIO*TrainingValidationTestSet_LABEL1_DF.shape[0])\n",
        "validation_index_label0 = int((TRAINING_RATIO+VALIDATION_RATIO)*TrainingValidationTestSet_LABEL0_DF.shape[0])\n",
        "validation_index_label1 = int((TRAINING_RATIO+VALIDATION_RATIO)*TrainingValidationTestSet_LABEL1_DF.shape[0])\n",
        "\n",
        "xTraining = TrainingValidationTestSet_LABEL0_DF.iloc[:training_index_label0,:-1]\n",
        "xTraining = xTraining.append(TrainingValidationTestSet_LABEL1_DF.iloc[:training_index_label1,:-1])\n",
        "yTraining = TrainingValidationTestSet_LABEL0_DF.iloc[:training_index_label0,-1]\n",
        "yTraining = yTraining.append(TrainingValidationTestSet_LABEL1_DF.iloc[:training_index_label1,-1])\n",
        "\n",
        "xValidation = TrainingValidationTestSet_LABEL0_DF.iloc[training_index_label0:validation_index_label0,:-1]\n",
        "xValidation = xValidation.append(TrainingValidationTestSet_LABEL1_DF.iloc[training_index_label1:validation_index_label1,:-1])\n",
        "yValidation = TrainingValidationTestSet_LABEL0_DF.iloc[training_index_label0:validation_index_label0,-1]\n",
        "yValidation = yValidation.append(TrainingValidationTestSet_LABEL1_DF.iloc[training_index_label1:validation_index_label1,-1])\n",
        "\n",
        "xTest = TrainingValidationTestSet_LABEL0_DF.iloc[validation_index_label0:,:-1]\n",
        "xTest = xTest.append(TrainingValidationTestSet_LABEL1_DF.iloc[validation_index_label1:,:-1])\n",
        "yTest = TrainingValidationTestSet_LABEL0_DF.iloc[validation_index_label0:,-1]\n",
        "yTest = yTest.append(TrainingValidationTestSet_LABEL1_DF.iloc[validation_index_label1:,-1])\n",
        "\n",
        "print(xTraining.shape)\n",
        "print(xValidation.shape)\n",
        "print(xTest.shape)"
      ],
      "metadata": {
        "id": "JrDv5Fqwa5IQ",
        "colab": {
          "base_uri": "https://localhost:8080/"
        },
        "outputId": "fd59877d-6b6f-4507-a0b2-e15a415dc0e3"
      },
      "execution_count": null,
      "outputs": [
        {
          "output_type": "stream",
          "name": "stdout",
          "text": [
            "(1898, 16384)\n",
            "(634, 16384)\n",
            "(634, 16384)\n"
          ]
        }
      ]
    },
    {
      "cell_type": "markdown",
      "source": [
        "**Scale the image data set**"
      ],
      "metadata": {
        "id": "uVDv0TSRJxXk"
      }
    },
    {
      "cell_type": "code",
      "source": [
        "xTraining = xTraining / 255\n",
        "xValidation = xValidation / 255\n",
        "xTest = xTest / 255\n",
        "xValidation.describe()"
      ],
      "metadata": {
        "id": "C3ynAJ_FJ0Ql",
        "colab": {
          "base_uri": "https://localhost:8080/",
          "height": 394
        },
        "outputId": "b8f2cfc0-b485-4808-b7ad-5a69a3af8a05"
      },
      "execution_count": null,
      "outputs": [
        {
          "output_type": "execute_result",
          "data": {
            "text/plain": [
              "            0           1           2           3           4           5      \\\n",
              "count  634.000000  634.000000  634.000000  634.000000  634.000000  634.000000   \n",
              "mean     0.205839    0.221828    0.225707    0.233909    0.248086    0.269741   \n",
              "std      0.216149    0.218675    0.206228    0.203066    0.206332    0.217418   \n",
              "min      0.000000    0.000000    0.000000    0.000000    0.000000    0.000000   \n",
              "25%      0.031373    0.047059    0.062745    0.078431    0.090196    0.109804   \n",
              "50%      0.152941    0.172549    0.188235    0.196078    0.223529    0.239216   \n",
              "75%      0.293137    0.304902    0.313725    0.325490    0.348039    0.364706   \n",
              "max      1.000000    1.000000    1.000000    1.000000    1.000000    1.000000   \n",
              "\n",
              "            6           7           8           9      ...       16374  \\\n",
              "count  634.000000  634.000000  634.000000  634.000000  ...  634.000000   \n",
              "mean     0.272766    0.281202    0.284988    0.292837  ...    0.245321   \n",
              "std      0.206167    0.204351    0.198490    0.195490  ...    0.220609   \n",
              "min      0.000000    0.000000    0.000000    0.000000  ...    0.000000   \n",
              "25%      0.121569    0.137255    0.150000    0.160784  ...    0.050980   \n",
              "50%      0.252941    0.258824    0.262745    0.270588  ...    0.180392   \n",
              "75%      0.368627    0.372549    0.388235    0.396078  ...    0.442157   \n",
              "max      1.000000    1.000000    1.000000    1.000000  ...    0.996078   \n",
              "\n",
              "            16375       16376       16377       16378       16379       16380  \\\n",
              "count  634.000000  634.000000  634.000000  634.000000  634.000000  634.000000   \n",
              "mean     0.208258    0.170557    0.137416    0.110274    0.089237    0.073044   \n",
              "std      0.210140    0.192796    0.171364    0.152840    0.139162    0.121898   \n",
              "min      0.000000    0.000000    0.000000    0.000000    0.000000    0.000000   \n",
              "25%      0.024510    0.000000    0.000000    0.000000    0.000000    0.000000   \n",
              "50%      0.131373    0.090196    0.074510    0.054902    0.035294    0.025490   \n",
              "75%      0.392157    0.292157    0.200000    0.152941    0.113725    0.098039   \n",
              "max      1.000000    1.000000    1.000000    1.000000    1.000000    1.000000   \n",
              "\n",
              "            16381       16382       16383  \n",
              "count  634.000000  634.000000  634.000000  \n",
              "mean     0.065417    0.062628    0.064316  \n",
              "std      0.118019    0.118733    0.125532  \n",
              "min      0.000000    0.000000    0.000000  \n",
              "25%      0.000000    0.000000    0.000000  \n",
              "50%      0.007843    0.000000    0.000000  \n",
              "75%      0.090196    0.090196    0.086275  \n",
              "max      1.000000    1.000000    1.000000  \n",
              "\n",
              "[8 rows x 16384 columns]"
            ],
            "text/html": [
              "\n",
              "  <div id=\"df-7ea526a8-005b-44af-8915-8e8c000fe257\">\n",
              "    <div class=\"colab-df-container\">\n",
              "      <div>\n",
              "<style scoped>\n",
              "    .dataframe tbody tr th:only-of-type {\n",
              "        vertical-align: middle;\n",
              "    }\n",
              "\n",
              "    .dataframe tbody tr th {\n",
              "        vertical-align: top;\n",
              "    }\n",
              "\n",
              "    .dataframe thead th {\n",
              "        text-align: right;\n",
              "    }\n",
              "</style>\n",
              "<table border=\"1\" class=\"dataframe\">\n",
              "  <thead>\n",
              "    <tr style=\"text-align: right;\">\n",
              "      <th></th>\n",
              "      <th>0</th>\n",
              "      <th>1</th>\n",
              "      <th>2</th>\n",
              "      <th>3</th>\n",
              "      <th>4</th>\n",
              "      <th>5</th>\n",
              "      <th>6</th>\n",
              "      <th>7</th>\n",
              "      <th>8</th>\n",
              "      <th>9</th>\n",
              "      <th>...</th>\n",
              "      <th>16374</th>\n",
              "      <th>16375</th>\n",
              "      <th>16376</th>\n",
              "      <th>16377</th>\n",
              "      <th>16378</th>\n",
              "      <th>16379</th>\n",
              "      <th>16380</th>\n",
              "      <th>16381</th>\n",
              "      <th>16382</th>\n",
              "      <th>16383</th>\n",
              "    </tr>\n",
              "  </thead>\n",
              "  <tbody>\n",
              "    <tr>\n",
              "      <th>count</th>\n",
              "      <td>634.000000</td>\n",
              "      <td>634.000000</td>\n",
              "      <td>634.000000</td>\n",
              "      <td>634.000000</td>\n",
              "      <td>634.000000</td>\n",
              "      <td>634.000000</td>\n",
              "      <td>634.000000</td>\n",
              "      <td>634.000000</td>\n",
              "      <td>634.000000</td>\n",
              "      <td>634.000000</td>\n",
              "      <td>...</td>\n",
              "      <td>634.000000</td>\n",
              "      <td>634.000000</td>\n",
              "      <td>634.000000</td>\n",
              "      <td>634.000000</td>\n",
              "      <td>634.000000</td>\n",
              "      <td>634.000000</td>\n",
              "      <td>634.000000</td>\n",
              "      <td>634.000000</td>\n",
              "      <td>634.000000</td>\n",
              "      <td>634.000000</td>\n",
              "    </tr>\n",
              "    <tr>\n",
              "      <th>mean</th>\n",
              "      <td>0.205839</td>\n",
              "      <td>0.221828</td>\n",
              "      <td>0.225707</td>\n",
              "      <td>0.233909</td>\n",
              "      <td>0.248086</td>\n",
              "      <td>0.269741</td>\n",
              "      <td>0.272766</td>\n",
              "      <td>0.281202</td>\n",
              "      <td>0.284988</td>\n",
              "      <td>0.292837</td>\n",
              "      <td>...</td>\n",
              "      <td>0.245321</td>\n",
              "      <td>0.208258</td>\n",
              "      <td>0.170557</td>\n",
              "      <td>0.137416</td>\n",
              "      <td>0.110274</td>\n",
              "      <td>0.089237</td>\n",
              "      <td>0.073044</td>\n",
              "      <td>0.065417</td>\n",
              "      <td>0.062628</td>\n",
              "      <td>0.064316</td>\n",
              "    </tr>\n",
              "    <tr>\n",
              "      <th>std</th>\n",
              "      <td>0.216149</td>\n",
              "      <td>0.218675</td>\n",
              "      <td>0.206228</td>\n",
              "      <td>0.203066</td>\n",
              "      <td>0.206332</td>\n",
              "      <td>0.217418</td>\n",
              "      <td>0.206167</td>\n",
              "      <td>0.204351</td>\n",
              "      <td>0.198490</td>\n",
              "      <td>0.195490</td>\n",
              "      <td>...</td>\n",
              "      <td>0.220609</td>\n",
              "      <td>0.210140</td>\n",
              "      <td>0.192796</td>\n",
              "      <td>0.171364</td>\n",
              "      <td>0.152840</td>\n",
              "      <td>0.139162</td>\n",
              "      <td>0.121898</td>\n",
              "      <td>0.118019</td>\n",
              "      <td>0.118733</td>\n",
              "      <td>0.125532</td>\n",
              "    </tr>\n",
              "    <tr>\n",
              "      <th>min</th>\n",
              "      <td>0.000000</td>\n",
              "      <td>0.000000</td>\n",
              "      <td>0.000000</td>\n",
              "      <td>0.000000</td>\n",
              "      <td>0.000000</td>\n",
              "      <td>0.000000</td>\n",
              "      <td>0.000000</td>\n",
              "      <td>0.000000</td>\n",
              "      <td>0.000000</td>\n",
              "      <td>0.000000</td>\n",
              "      <td>...</td>\n",
              "      <td>0.000000</td>\n",
              "      <td>0.000000</td>\n",
              "      <td>0.000000</td>\n",
              "      <td>0.000000</td>\n",
              "      <td>0.000000</td>\n",
              "      <td>0.000000</td>\n",
              "      <td>0.000000</td>\n",
              "      <td>0.000000</td>\n",
              "      <td>0.000000</td>\n",
              "      <td>0.000000</td>\n",
              "    </tr>\n",
              "    <tr>\n",
              "      <th>25%</th>\n",
              "      <td>0.031373</td>\n",
              "      <td>0.047059</td>\n",
              "      <td>0.062745</td>\n",
              "      <td>0.078431</td>\n",
              "      <td>0.090196</td>\n",
              "      <td>0.109804</td>\n",
              "      <td>0.121569</td>\n",
              "      <td>0.137255</td>\n",
              "      <td>0.150000</td>\n",
              "      <td>0.160784</td>\n",
              "      <td>...</td>\n",
              "      <td>0.050980</td>\n",
              "      <td>0.024510</td>\n",
              "      <td>0.000000</td>\n",
              "      <td>0.000000</td>\n",
              "      <td>0.000000</td>\n",
              "      <td>0.000000</td>\n",
              "      <td>0.000000</td>\n",
              "      <td>0.000000</td>\n",
              "      <td>0.000000</td>\n",
              "      <td>0.000000</td>\n",
              "    </tr>\n",
              "    <tr>\n",
              "      <th>50%</th>\n",
              "      <td>0.152941</td>\n",
              "      <td>0.172549</td>\n",
              "      <td>0.188235</td>\n",
              "      <td>0.196078</td>\n",
              "      <td>0.223529</td>\n",
              "      <td>0.239216</td>\n",
              "      <td>0.252941</td>\n",
              "      <td>0.258824</td>\n",
              "      <td>0.262745</td>\n",
              "      <td>0.270588</td>\n",
              "      <td>...</td>\n",
              "      <td>0.180392</td>\n",
              "      <td>0.131373</td>\n",
              "      <td>0.090196</td>\n",
              "      <td>0.074510</td>\n",
              "      <td>0.054902</td>\n",
              "      <td>0.035294</td>\n",
              "      <td>0.025490</td>\n",
              "      <td>0.007843</td>\n",
              "      <td>0.000000</td>\n",
              "      <td>0.000000</td>\n",
              "    </tr>\n",
              "    <tr>\n",
              "      <th>75%</th>\n",
              "      <td>0.293137</td>\n",
              "      <td>0.304902</td>\n",
              "      <td>0.313725</td>\n",
              "      <td>0.325490</td>\n",
              "      <td>0.348039</td>\n",
              "      <td>0.364706</td>\n",
              "      <td>0.368627</td>\n",
              "      <td>0.372549</td>\n",
              "      <td>0.388235</td>\n",
              "      <td>0.396078</td>\n",
              "      <td>...</td>\n",
              "      <td>0.442157</td>\n",
              "      <td>0.392157</td>\n",
              "      <td>0.292157</td>\n",
              "      <td>0.200000</td>\n",
              "      <td>0.152941</td>\n",
              "      <td>0.113725</td>\n",
              "      <td>0.098039</td>\n",
              "      <td>0.090196</td>\n",
              "      <td>0.090196</td>\n",
              "      <td>0.086275</td>\n",
              "    </tr>\n",
              "    <tr>\n",
              "      <th>max</th>\n",
              "      <td>1.000000</td>\n",
              "      <td>1.000000</td>\n",
              "      <td>1.000000</td>\n",
              "      <td>1.000000</td>\n",
              "      <td>1.000000</td>\n",
              "      <td>1.000000</td>\n",
              "      <td>1.000000</td>\n",
              "      <td>1.000000</td>\n",
              "      <td>1.000000</td>\n",
              "      <td>1.000000</td>\n",
              "      <td>...</td>\n",
              "      <td>0.996078</td>\n",
              "      <td>1.000000</td>\n",
              "      <td>1.000000</td>\n",
              "      <td>1.000000</td>\n",
              "      <td>1.000000</td>\n",
              "      <td>1.000000</td>\n",
              "      <td>1.000000</td>\n",
              "      <td>1.000000</td>\n",
              "      <td>1.000000</td>\n",
              "      <td>1.000000</td>\n",
              "    </tr>\n",
              "  </tbody>\n",
              "</table>\n",
              "<p>8 rows × 16384 columns</p>\n",
              "</div>\n",
              "      <button class=\"colab-df-convert\" onclick=\"convertToInteractive('df-7ea526a8-005b-44af-8915-8e8c000fe257')\"\n",
              "              title=\"Convert this dataframe to an interactive table.\"\n",
              "              style=\"display:none;\">\n",
              "        \n",
              "  <svg xmlns=\"http://www.w3.org/2000/svg\" height=\"24px\"viewBox=\"0 0 24 24\"\n",
              "       width=\"24px\">\n",
              "    <path d=\"M0 0h24v24H0V0z\" fill=\"none\"/>\n",
              "    <path d=\"M18.56 5.44l.94 2.06.94-2.06 2.06-.94-2.06-.94-.94-2.06-.94 2.06-2.06.94zm-11 1L8.5 8.5l.94-2.06 2.06-.94-2.06-.94L8.5 2.5l-.94 2.06-2.06.94zm10 10l.94 2.06.94-2.06 2.06-.94-2.06-.94-.94-2.06-.94 2.06-2.06.94z\"/><path d=\"M17.41 7.96l-1.37-1.37c-.4-.4-.92-.59-1.43-.59-.52 0-1.04.2-1.43.59L10.3 9.45l-7.72 7.72c-.78.78-.78 2.05 0 2.83L4 21.41c.39.39.9.59 1.41.59.51 0 1.02-.2 1.41-.59l7.78-7.78 2.81-2.81c.8-.78.8-2.07 0-2.86zM5.41 20L4 18.59l7.72-7.72 1.47 1.35L5.41 20z\"/>\n",
              "  </svg>\n",
              "      </button>\n",
              "      \n",
              "  <style>\n",
              "    .colab-df-container {\n",
              "      display:flex;\n",
              "      flex-wrap:wrap;\n",
              "      gap: 12px;\n",
              "    }\n",
              "\n",
              "    .colab-df-convert {\n",
              "      background-color: #E8F0FE;\n",
              "      border: none;\n",
              "      border-radius: 50%;\n",
              "      cursor: pointer;\n",
              "      display: none;\n",
              "      fill: #1967D2;\n",
              "      height: 32px;\n",
              "      padding: 0 0 0 0;\n",
              "      width: 32px;\n",
              "    }\n",
              "\n",
              "    .colab-df-convert:hover {\n",
              "      background-color: #E2EBFA;\n",
              "      box-shadow: 0px 1px 2px rgba(60, 64, 67, 0.3), 0px 1px 3px 1px rgba(60, 64, 67, 0.15);\n",
              "      fill: #174EA6;\n",
              "    }\n",
              "\n",
              "    [theme=dark] .colab-df-convert {\n",
              "      background-color: #3B4455;\n",
              "      fill: #D2E3FC;\n",
              "    }\n",
              "\n",
              "    [theme=dark] .colab-df-convert:hover {\n",
              "      background-color: #434B5C;\n",
              "      box-shadow: 0px 1px 3px 1px rgba(0, 0, 0, 0.15);\n",
              "      filter: drop-shadow(0px 1px 2px rgba(0, 0, 0, 0.3));\n",
              "      fill: #FFFFFF;\n",
              "    }\n",
              "  </style>\n",
              "\n",
              "      <script>\n",
              "        const buttonEl =\n",
              "          document.querySelector('#df-7ea526a8-005b-44af-8915-8e8c000fe257 button.colab-df-convert');\n",
              "        buttonEl.style.display =\n",
              "          google.colab.kernel.accessAllowed ? 'block' : 'none';\n",
              "\n",
              "        async function convertToInteractive(key) {\n",
              "          const element = document.querySelector('#df-7ea526a8-005b-44af-8915-8e8c000fe257');\n",
              "          const dataTable =\n",
              "            await google.colab.kernel.invokeFunction('convertToInteractive',\n",
              "                                                     [key], {});\n",
              "          if (!dataTable) return;\n",
              "\n",
              "          const docLinkHtml = 'Like what you see? Visit the ' +\n",
              "            '<a target=\"_blank\" href=https://colab.research.google.com/notebooks/data_table.ipynb>data table notebook</a>'\n",
              "            + ' to learn more about interactive tables.';\n",
              "          element.innerHTML = '';\n",
              "          dataTable['output_type'] = 'display_data';\n",
              "          await google.colab.output.renderOutput(dataTable, element);\n",
              "          const docLink = document.createElement('div');\n",
              "          docLink.innerHTML = docLinkHtml;\n",
              "          element.appendChild(docLink);\n",
              "        }\n",
              "      </script>\n",
              "    </div>\n",
              "  </div>\n",
              "  "
            ]
          },
          "metadata": {},
          "execution_count": 8
        }
      ]
    },
    {
      "cell_type": "code",
      "source": [
        "print(xTraining.shape)\n",
        "print(np.count_nonzero(yTraining))\n",
        "\n",
        "print(xValidation.shape)\n",
        "print(np.count_nonzero(yValidation))\n",
        "\n",
        "print(xTest.shape)\n",
        "print(np.count_nonzero(yTest))"
      ],
      "metadata": {
        "id": "9G5w2_hBUc9E",
        "colab": {
          "base_uri": "https://localhost:8080/"
        },
        "outputId": "85399010-0cde-456c-c338-b9a9336ed232"
      },
      "execution_count": null,
      "outputs": [
        {
          "output_type": "stream",
          "name": "stdout",
          "text": [
            "(1898, 16384)\n",
            "949\n",
            "(634, 16384)\n",
            "317\n",
            "(634, 16384)\n",
            "317\n"
          ]
        }
      ]
    },
    {
      "cell_type": "markdown",
      "source": [
        "**Fit and predict with SVM model**"
      ],
      "metadata": {
        "id": "5ut4MELb3VMj"
      }
    },
    {
      "cell_type": "code",
      "source": [
        "for k in SVM_KERNELS:\n",
        "  for c in REG_PARAMS:\n",
        "    # Fit the model\n",
        "    model = svm.SVC(kernel=k, C=c)\n",
        "    model.fit(xTraining, yTraining)\n",
        "\n",
        "    # Make prediction\n",
        "    yhatValidation = model.predict(xValidation)\n",
        "\n",
        "    # calculate and print Confusion matrix, Precision, Recall, F1-Score\n",
        "    cm = confusion_matrix(yValidation, yhatValidation)\n",
        "    precision = precision_score(yValidation, yhatValidation)\n",
        "    recall = recall_score(yValidation, yhatValidation)\n",
        "    f1 = f1_score(yValidation, yhatValidation)\n",
        "    print(f\"Kernel = {k}, C = {c}:\")\n",
        "    print(f\"    Confusion Matrix: {cm[0,:]}\")\n",
        "    print(f\"                      {cm[1,:]}\")\n",
        "    print(f\"    Precision: {precision}\")\n",
        "    print(f\"    Recall: {recall}\")\n",
        "    print(f\"    F1-Score: {f1}\")"
      ],
      "metadata": {
        "id": "k6z6ltIT3jwy",
        "colab": {
          "base_uri": "https://localhost:8080/"
        },
        "outputId": "a70549ed-9a60-42a0-f93a-35e258825093"
      },
      "execution_count": null,
      "outputs": [
        {
          "output_type": "stream",
          "name": "stdout",
          "text": [
            "Kernel = linear, C = 0.1:\n",
            "    Confusion Matrix: [298  19]\n",
            "                      [ 10 307]\n",
            "    Precision: 0.941717791411043\n",
            "    Recall: 0.9684542586750788\n",
            "    F1-Score: 0.9548989113530327\n",
            "Kernel = linear, C = 1:\n",
            "    Confusion Matrix: [298  19]\n",
            "                      [ 10 307]\n",
            "    Precision: 0.941717791411043\n",
            "    Recall: 0.9684542586750788\n",
            "    F1-Score: 0.9548989113530327\n",
            "Kernel = linear, C = 10:\n",
            "    Confusion Matrix: [298  19]\n",
            "                      [ 10 307]\n",
            "    Precision: 0.941717791411043\n",
            "    Recall: 0.9684542586750788\n",
            "    F1-Score: 0.9548989113530327\n",
            "Kernel = linear, C = 100:\n",
            "    Confusion Matrix: [298  19]\n",
            "                      [ 10 307]\n",
            "    Precision: 0.941717791411043\n",
            "    Recall: 0.9684542586750788\n",
            "    F1-Score: 0.9548989113530327\n",
            "Kernel = poly, C = 0.1:\n",
            "    Confusion Matrix: [303  14]\n",
            "                      [ 14 303]\n",
            "    Precision: 0.9558359621451105\n",
            "    Recall: 0.9558359621451105\n",
            "    F1-Score: 0.9558359621451105\n",
            "Kernel = poly, C = 1:\n",
            "    Confusion Matrix: [300  17]\n",
            "                      [ 11 306]\n",
            "    Precision: 0.9473684210526315\n",
            "    Recall: 0.9652996845425867\n",
            "    F1-Score: 0.9562499999999999\n",
            "Kernel = poly, C = 10:\n",
            "    Confusion Matrix: [299  18]\n",
            "                      [ 10 307]\n",
            "    Precision: 0.9446153846153846\n",
            "    Recall: 0.9684542586750788\n",
            "    F1-Score: 0.956386292834891\n",
            "Kernel = poly, C = 100:\n",
            "    Confusion Matrix: [299  18]\n",
            "                      [ 10 307]\n",
            "    Precision: 0.9446153846153846\n",
            "    Recall: 0.9684542586750788\n",
            "    F1-Score: 0.956386292834891\n",
            "Kernel = rbf, C = 0.1:\n",
            "    Confusion Matrix: [289  28]\n",
            "                      [ 16 301]\n",
            "    Precision: 0.9148936170212766\n",
            "    Recall: 0.9495268138801262\n",
            "    F1-Score: 0.9318885448916409\n",
            "Kernel = rbf, C = 1:\n",
            "    Confusion Matrix: [304  13]\n",
            "                      [ 10 307]\n",
            "    Precision: 0.959375\n",
            "    Recall: 0.9684542586750788\n",
            "    F1-Score: 0.9638932496075353\n",
            "Kernel = rbf, C = 10:\n",
            "    Confusion Matrix: [306  11]\n",
            "                      [ 10 307]\n",
            "    Precision: 0.9654088050314465\n",
            "    Recall: 0.9684542586750788\n",
            "    F1-Score: 0.9669291338582677\n",
            "Kernel = rbf, C = 100:\n",
            "    Confusion Matrix: [307  10]\n",
            "                      [ 11 306]\n",
            "    Precision: 0.9683544303797469\n",
            "    Recall: 0.9652996845425867\n",
            "    F1-Score: 0.966824644549763\n"
          ]
        }
      ]
    },
    {
      "cell_type": "markdown",
      "source": [
        "**Predict the test data set and analyze the result**"
      ],
      "metadata": {
        "id": "3la5lwRC6XRe"
      }
    },
    {
      "cell_type": "code",
      "source": [
        "k = \"rbf\"\n",
        "c = 10\n",
        "\n",
        "# Fit the model\n",
        "model = svm.SVC(kernel=k, C=c)\n",
        "model.fit(xTraining, yTraining)\n",
        "\n",
        "# Make prediction\n",
        "yhatTest = model.predict(xTest)\n",
        "\n",
        "# Report Precision, Recall, F1-Score\n",
        "precision = precision_score(yTest, yhatTest)\n",
        "recall = recall_score(yTest, yhatTest)\n",
        "f1 = f1_score(yTest, yhatTest)\n",
        "print(f\"Kernel = {k}, C = {c}:\")\n",
        "print(f\"    Precision: {precision}\")\n",
        "print(f\"    Recall: {recall}\")\n",
        "print(f\"    F1-Score: {f1}\")\n",
        "\n",
        "# Confusion matrix\n",
        "cm = confusion_matrix(yTest, yhatTest)\n",
        "cm_DF = pd.DataFrame(cm , index=['0','1'] , columns=['0','1'])\n",
        "plt.figure(figsize=(5, 5))\n",
        "sns.heatmap(cm_DF, cmap=\"Reds\", annot=True, fmt='', xticklabels=LABELS, yticklabels=LABELS)"
      ],
      "metadata": {
        "id": "uhG7-2li6fOV",
        "colab": {
          "base_uri": "https://localhost:8080/",
          "height": 407
        },
        "outputId": "e26a2883-1bbc-4749-857a-d8689c84a823"
      },
      "execution_count": null,
      "outputs": [
        {
          "output_type": "stream",
          "name": "stdout",
          "text": [
            "Kernel = rbf, C = 10:\n",
            "    Precision: 0.7103448275862069\n",
            "    Recall: 0.9747634069400631\n",
            "    F1-Score: 0.8218085106382979\n"
          ]
        },
        {
          "output_type": "execute_result",
          "data": {
            "text/plain": [
              "<matplotlib.axes._subplots.AxesSubplot at 0x7f8463494150>"
            ]
          },
          "metadata": {},
          "execution_count": 11
        },
        {
          "output_type": "display_data",
          "data": {
            "text/plain": [
              "<Figure size 360x360 with 2 Axes>"
            ],
            "image/png": "[encoded data removed]"
          },
          "metadata": {
            "needs_background": "light"
          }
        }
      ]
    }
  ]
}